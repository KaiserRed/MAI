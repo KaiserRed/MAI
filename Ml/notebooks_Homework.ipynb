{
  "metadata": {
    "kernelspec": {
      "name": "python",
      "display_name": "Python (Pyodide)",
      "language": "python"
    },
    "language_info": {
      "codemirror_mode": {
        "name": "python",
        "version": 3
      },
      "file_extension": ".py",
      "mimetype": "text/x-python",
      "name": "python",
      "nbconvert_exporter": "python",
      "pygments_lexer": "ipython3",
      "version": "3.8"
    }
  },
  "nbformat_minor": 5,
  "nbformat": 4,
  "cells": [
    {
      "cell_type": "markdown",
      "source": "# Домашняя работа по регуляризации и оптимизации\n\nНиже приводится корпус данных с двумя метками: 1 и -1. К данным применяется линейная модель классификации:\n\n$f(x, \\theta) = x_1 \\theta_1 + x_2 \\theta_2 + \\theta_3.$\n\n#Предлагается подобрать параметры $\\theta$ минимизируя следующую функцию ошибки:\n\n$\\mathcal{L}(\\theta) = 0.1 \\|\\theta\\|^2 + \\frac{1}{N}\\sum\\limits_{i=1}^N \\max(0, 1 - y_i f(x_i, \\theta)).$\n\nДля оптимизации предлагается использовать метод градиентного спуска с 1000 шагами размера $0.1$ из начальной точки $(1, 1, 0)$.",
      "metadata": {},
      "id": "ff5879c6-af29-440f-ab7d-ce5c52a11afb"
    },
    {
      "cell_type": "code",
      "source": "import numpy as np\nimport yaml",
      "metadata": {
        "trusted": true
      },
      "execution_count": 9,
      "outputs": [],
      "id": "8d7330b8-235d-4ca4-a70d-d867ad2fed96"
    },
    {
      "cell_type": "code",
      "source": "\nX = np.array([\n    [0, 1],\n    [1, 1],\n    [1, 0],\n    [-0.5, 0.5],\n    [0, -0.5]\n])\n\ny = np.array([1, 1, 1, -1, -1])\n\ntheta0 = np.array([1.0, 1.0, 0.0])\n\nlr = 0.1\n\ndef f(X, theta):\n    theta = np.asarray(theta)\n    return (X * theta[:2]).sum(axis=-1) + theta[2]\n\ndef loss(X, y, theta):\n    theta = np.asarray(theta)\n    norm = (theta ** 2).sum()\n    deltas = y * f(X, theta)\n    return 0.1 * norm + np.mean(np.maximum(0, 1 - deltas))\n\nprint(\"Prediction:\", f(X, theta0))\nprint(\"Loss:\", loss(X, y, theta0))\n\n",
      "metadata": {
        "trusted": true
      },
      "execution_count": 10,
      "outputs": [
        {
          "name": "stdout",
          "text": "Prediction: [ 1.   2.   1.   0.  -0.5]\nLoss: 0.5\n",
          "output_type": "stream"
        }
      ],
      "id": "418b8ed8-0cfe-49d5-9ea6-b18ac9345311"
    },
    {
      "cell_type": "code",
      "source": "\ndef f_d(X):\n  return (np.array([X[:, 0], X[:, 1], [1] * len(X)]))\n\ndef step(X, y, theta, lr):\n  return (theta - lr * loss_d(X, y, theta))\n\ndef loss_d(X, y, theta):\n  theta = np.asarray(theta)\n  norm_d = 2 * theta\n\n\n  deltas = y * f(X, theta)\n  deltas = np.maximum(0, 1 - deltas)\n  mask  = (deltas != 0) \n  mask = mask.astype(np.int64) \n\n  deltas_d = mask * (-1 * y * f_d(X))\n  return (0.1 * norm_d + np.mean(deltas_d, axis = 1))\n\n\n\ntheta = theta0\n\nfor i in range(1000):\n  theta = step(X, y, theta, lr)",
      "metadata": {
        "trusted": true
      },
      "execution_count": 11,
      "outputs": [],
      "id": "ee6f3383-b943-4ede-a4cb-f6785c11d9d3"
    },
    {
      "cell_type": "code",
      "source": "print(\"Prediction:\", f(X, theta))\nprint(\"Loss:\", loss(X, y, theta))\n\nwith open(\"submission.yaml\", \"w\") as fp:\n    yaml.safe_dump({\"tasks\": [{\"task1\": {\"answer\": theta.tolist()}}]}, fp)",
      "metadata": {
        "trusted": true
      },
      "execution_count": 12,
      "outputs": [
        {
          "name": "stdout",
          "text": "Prediction: [ 0.75218494  2.00436988  1.00436988 -0.37390753 -0.74781506]\nLoss: 0.48815643632236133\n",
          "output_type": "stream"
        }
      ],
      "id": "556246fd-4c56-4b32-a174-f21360b75585"
    }
  ]
}